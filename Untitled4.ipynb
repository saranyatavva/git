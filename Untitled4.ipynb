{
  "nbformat": 4,
  "nbformat_minor": 0,
  "metadata": {
    "colab": {
      "name": "Untitled4.ipynb",
      "provenance": [],
      "collapsed_sections": [],
      "toc_visible": true,
      "include_colab_link": true
    },
    "kernelspec": {
      "name": "python3",
      "display_name": "Python 3"
    }
  },
  "cells": [
    {
      "cell_type": "markdown",
      "metadata": {
        "id": "view-in-github",
        "colab_type": "text"
      },
      "source": [
        "<a href=\"https://colab.research.google.com/github/saranyatavva/git/blob/master/Untitled4.ipynb\" target=\"_parent\"><img src=\"https://colab.research.google.com/assets/colab-badge.svg\" alt=\"Open In Colab\"/></a>"
      ]
    },
    {
      "cell_type": "markdown",
      "metadata": {
        "id": "6gSJUzLpPhXL"
      },
      "source": [
        "#**DAY1**"
      ]
    },
    {
      "cell_type": "code",
      "metadata": {
        "id": "eUclMlL1xkV5"
      },
      "source": [
        "import this #principles with which python was made"
      ],
      "execution_count": null,
      "outputs": []
    },
    {
      "cell_type": "markdown",
      "metadata": {
        "id": "AnzK_DiRxhfE"
      },
      "source": [
        "# Arithmetic Operators"
      ]
    },
    {
      "cell_type": "code",
      "metadata": {
        "colab": {
          "base_uri": "https://localhost:8080/"
        },
        "id": "HWOw_VfS9ShQ",
        "outputId": "d7d5a30c-6233-4910-9597-396923b1e9ce"
      },
      "source": [
        "2+3"
      ],
      "execution_count": null,
      "outputs": [
        {
          "output_type": "execute_result",
          "data": {
            "text/plain": [
              "5"
            ]
          },
          "metadata": {
            "tags": []
          },
          "execution_count": 6
        }
      ]
    },
    {
      "cell_type": "code",
      "metadata": {
        "colab": {
          "base_uri": "https://localhost:8080/"
        },
        "id": "neHj9UCo9SZg",
        "outputId": "dca03ca5-6f88-4a13-8511-d7f80ebbfc18"
      },
      "source": [
        "4*5"
      ],
      "execution_count": null,
      "outputs": [
        {
          "output_type": "execute_result",
          "data": {
            "text/plain": [
              "20"
            ]
          },
          "metadata": {
            "tags": []
          },
          "execution_count": 5
        }
      ]
    },
    {
      "cell_type": "markdown",
      "metadata": {
        "id": "lPyBUnhr-oqy"
      },
      "source": [
        "C lang analogy:\r\n",
        "\r\n",
        "\r\n",
        "```\r\n",
        "int a,b,c;\r\n",
        "c=(float)a/b (float/int=float)\r\n",
        "```\r\n",
        "\r\n"
      ]
    },
    {
      "cell_type": "code",
      "metadata": {
        "colab": {
          "base_uri": "https://localhost:8080/"
        },
        "id": "6khRRXr_9SSA",
        "outputId": "cb0b1d85-84e1-4b5f-8163-a073cea22a8f"
      },
      "source": [
        "10/3"
      ],
      "execution_count": null,
      "outputs": [
        {
          "output_type": "execute_result",
          "data": {
            "text/plain": [
              "3.3333333333333335"
            ]
          },
          "metadata": {
            "tags": []
          },
          "execution_count": 4
        }
      ]
    },
    {
      "cell_type": "markdown",
      "metadata": {
        "id": "B2cKF9Hd-Ew_"
      },
      "source": [
        "C lang analogy: \r\n",
        "\r\n",
        "\r\n",
        "```\r\n",
        "int a,b,c;\r\n",
        "c=a/b (int/int=int)\r\n",
        "```\r\n",
        "\r\n"
      ]
    },
    {
      "cell_type": "code",
      "metadata": {
        "colab": {
          "base_uri": "https://localhost:8080/"
        },
        "id": "U_v-N7U19SKT",
        "outputId": "76056052-6345-4bbd-9744-51f824531b22"
      },
      "source": [
        "10//3"
      ],
      "execution_count": null,
      "outputs": [
        {
          "output_type": "execute_result",
          "data": {
            "text/plain": [
              "3"
            ]
          },
          "metadata": {
            "tags": []
          },
          "execution_count": 7
        }
      ]
    },
    {
      "cell_type": "markdown",
      "metadata": {
        "id": "zIO6DT2G94Aa"
      },
      "source": [
        "*Exponential* ^\r\n",
        "\r\n",
        "\r\n",
        "\r\n"
      ]
    },
    {
      "cell_type": "code",
      "metadata": {
        "colab": {
          "base_uri": "https://localhost:8080/"
        },
        "id": "zxul9U4R9R6R",
        "outputId": "391a1184-da3e-4aeb-fea1-268e030912b5"
      },
      "source": [
        "2**3 #2*2*2"
      ],
      "execution_count": null,
      "outputs": [
        {
          "output_type": "execute_result",
          "data": {
            "text/plain": [
              "8"
            ]
          },
          "metadata": {
            "tags": []
          },
          "execution_count": 11
        }
      ]
    },
    {
      "cell_type": "markdown",
      "metadata": {
        "id": "WGDSdsxW9rI0"
      },
      "source": [
        "Modulo-->remainder"
      ]
    },
    {
      "cell_type": "code",
      "metadata": {
        "colab": {
          "base_uri": "https://localhost:8080/"
        },
        "id": "wLwIAnUG9iBj",
        "outputId": "b184141a-bf4b-4e3f-dc6b-460a0f0e25f2"
      },
      "source": [
        "10%3"
      ],
      "execution_count": null,
      "outputs": [
        {
          "output_type": "execute_result",
          "data": {
            "text/plain": [
              "1"
            ]
          },
          "metadata": {
            "tags": []
          },
          "execution_count": 9
        }
      ]
    },
    {
      "cell_type": "markdown",
      "metadata": {
        "id": "2dA_q6QeX2g1"
      },
      "source": [
        "# User input and output formats\r\n",
        "\r\n",
        "*   print()\r\n",
        "*   input()    \r\n",
        "\r\n",
        "These two are inbuit functions\r\n",
        "\r\n",
        "\r\n",
        "---\r\n",
        "\r\n",
        "\r\n",
        "Comparing to C lang:    \r\n",
        "printf() in C     -    print() in Python    \r\n",
        "scanf() in C - input() in Python\r\n",
        "  \r\n",
        "\r\n",
        "\r\n",
        "\r\n",
        "\r\n",
        "\r\n"
      ]
    },
    {
      "cell_type": "code",
      "metadata": {
        "id": "gAaVxR5NhXa-"
      },
      "source": [
        ""
      ],
      "execution_count": null,
      "outputs": []
    },
    {
      "cell_type": "code",
      "metadata": {
        "id": "9WaqDq5yhXYU"
      },
      "source": [
        ""
      ],
      "execution_count": null,
      "outputs": []
    },
    {
      "cell_type": "code",
      "metadata": {
        "id": "vVyivDJthXS2"
      },
      "source": [
        ""
      ],
      "execution_count": null,
      "outputs": []
    },
    {
      "cell_type": "markdown",
      "metadata": {
        "id": "3AvuGhMdjGyD"
      },
      "source": [
        "## Formatting output "
      ]
    },
    {
      "cell_type": "code",
      "metadata": {
        "id": "vaKlMytMhXJE"
      },
      "source": [
        ""
      ],
      "execution_count": null,
      "outputs": []
    },
    {
      "cell_type": "markdown",
      "metadata": {
        "id": "rcAy7p1ReMvI"
      },
      "source": [
        "# Identifiers\r\n",
        "\r\n",
        "\r\n",
        "*   Names given to variables,functions,modules,packages,classes    \r\n",
        "##**Rules:**\r\n",
        "* The identifier name cannot start with a number. It can only start with a character or an underscore.\r\n",
        "* Variables in python are case sensitive.\r\n",
        "* They can only contain alpha-numeric characters and underscores.\r\n",
        "* No special characters are allowed.\r\n",
        "\r\n"
      ]
    },
    {
      "cell_type": "markdown",
      "metadata": {
        "id": "csH21Siyjcl3"
      },
      "source": [
        "## Variables and Data types"
      ]
    },
    {
      "cell_type": "markdown",
      "metadata": {
        "id": "owpjN2XMeFcn"
      },
      "source": [
        "Variables in python as the name suggests are the values that vary.   \r\n",
        "In a programming language, **a variable is a memory location where you store a value**.   \r\n",
        "The value that you have stored may change in the future according to the specifications."
      ]
    },
    {
      "cell_type": "markdown",
      "metadata": {
        "id": "-A9GB34IW78X"
      },
      "source": [
        "**Variable != variable**"
      ]
    },
    {
      "cell_type": "code",
      "metadata": {
        "id": "C5qfZVPOV-fq"
      },
      "source": [
        "x=10\r\n",
        "print(x)"
      ],
      "execution_count": null,
      "outputs": []
    },
    {
      "cell_type": "code",
      "metadata": {
        "id": "fToz86N0evIb"
      },
      "source": [
        "hello-world = 10"
      ],
      "execution_count": null,
      "outputs": []
    },
    {
      "cell_type": "code",
      "metadata": {
        "id": "3y5P7X7ieydC"
      },
      "source": [
        "2y =10 #wrong"
      ],
      "execution_count": null,
      "outputs": []
    },
    {
      "cell_type": "code",
      "metadata": {
        "id": "liIc8hkTe0Jh"
      },
      "source": [
        "_ab =10"
      ],
      "execution_count": null,
      "outputs": []
    },
    {
      "cell_type": "code",
      "metadata": {
        "id": "yBngvMczSAIF"
      },
      "source": [
        "x=y=z=10"
      ],
      "execution_count": 1,
      "outputs": []
    },
    {
      "cell_type": "code",
      "metadata": {
        "id": "iSZt5G7cR__E"
      },
      "source": [
        "a,b,c=10,20,30"
      ],
      "execution_count": 2,
      "outputs": []
    },
    {
      "cell_type": "code",
      "metadata": {
        "id": "E64vaMZCR_36"
      },
      "source": [
        ""
      ],
      "execution_count": null,
      "outputs": []
    },
    {
      "cell_type": "markdown",
      "metadata": {
        "id": "T70W_dEsfPMn"
      },
      "source": [
        "[data types](https://d1jnx9ba8s6j9r.cloudfront.net/blog/wp-content/uploads/2019/05/2-432x300.png)"
      ]
    },
    {
      "cell_type": "markdown",
      "metadata": {
        "id": "vEtVejCuP0yE"
      },
      "source": [
        "Numbers"
      ]
    },
    {
      "cell_type": "code",
      "metadata": {
        "id": "ajhrPJWbQBp8"
      },
      "source": [
        ""
      ],
      "execution_count": null,
      "outputs": []
    },
    {
      "cell_type": "markdown",
      "metadata": {
        "id": "Wrk50qJmPoDs"
      },
      "source": [
        "Strings\r\n"
      ]
    },
    {
      "cell_type": "code",
      "metadata": {
        "id": "9jZ5StOvQCS2"
      },
      "source": [
        ""
      ],
      "execution_count": null,
      "outputs": []
    },
    {
      "cell_type": "markdown",
      "metadata": {
        "id": "KDx6HrdpPuEk"
      },
      "source": [
        "Lists"
      ]
    },
    {
      "cell_type": "code",
      "metadata": {
        "id": "AgoNMjRkQC52"
      },
      "source": [
        ""
      ],
      "execution_count": null,
      "outputs": []
    },
    {
      "cell_type": "markdown",
      "metadata": {
        "id": "AxooUuiYPxsf"
      },
      "source": [
        "Type( Inbuild Function)"
      ]
    },
    {
      "cell_type": "code",
      "metadata": {
        "id": "9Ht8E6_wWrB1"
      },
      "source": [
        ""
      ],
      "execution_count": null,
      "outputs": []
    },
    {
      "cell_type": "markdown",
      "metadata": {
        "id": "2D13kxshJB9W"
      },
      "source": [
        "# Keywords in Python\r\n",
        "\r\n",
        "\r\n",
        "---\r\n",
        "\r\n",
        "\r\n",
        "\r\n",
        "\r\n",
        "\r\n",
        "\r\n",
        "## These words are reserved and cannot use them as variable name, function name and any identifier\r\n",
        "### True,False,None--- except these all other keywords are lowercase"
      ]
    },
    {
      "cell_type": "markdown",
      "metadata": {
        "id": "ZyeiQIc8YOKf"
      },
      "source": [
        "[key words](https://makemeanalyst.com/wp-content/uploads/2017/06/keywords-python.png)"
      ]
    },
    {
      "cell_type": "code",
      "metadata": {
        "id": "zghBHgNNXyGL"
      },
      "source": [
        ""
      ],
      "execution_count": null,
      "outputs": []
    },
    {
      "cell_type": "markdown",
      "metadata": {
        "id": "uTESb74aZG1p"
      },
      "source": [
        ""
      ]
    },
    {
      "cell_type": "markdown",
      "metadata": {
        "id": "dWcNFETtXnys"
      },
      "source": [
        "\r\n",
        "\r\n",
        "\r\n",
        "\r\n",
        "\r\n",
        "# comments    -> single and multi-line comments"
      ]
    },
    {
      "cell_type": "code",
      "metadata": {
        "id": "0EW8zZzAX_KA"
      },
      "source": [
        "#this is comment ---single line comment"
      ],
      "execution_count": null,
      "outputs": []
    },
    {
      "cell_type": "code",
      "metadata": {
        "id": "B_cOr3r9X-69"
      },
      "source": [
        "#comment\r\n",
        "#this comment\r\n",
        "#this is comment"
      ],
      "execution_count": null,
      "outputs": []
    },
    {
      "cell_type": "code",
      "metadata": {
        "colab": {
          "base_uri": "https://localhost:8080/",
          "height": 35
        },
        "id": "TQ2HMwGqX-4c",
        "outputId": "a3e5ca52-56e7-49cb-a10d-260a0d5f44d0"
      },
      "source": [
        "\"\"\"this is comment\"\"\"\r\n",
        "'''this is comment'''"
      ],
      "execution_count": 3,
      "outputs": [
        {
          "output_type": "execute_result",
          "data": {
            "application/vnd.google.colaboratory.intrinsic+json": {
              "type": "string"
            },
            "text/plain": [
              "'this is comment'"
            ]
          },
          "metadata": {
            "tags": []
          },
          "execution_count": 3
        }
      ]
    },
    {
      "cell_type": "markdown",
      "metadata": {
        "id": "GsfftuZIZOld"
      },
      "source": [
        "Type conversion-implict and explict"
      ]
    },
    {
      "cell_type": "code",
      "metadata": {
        "id": "XgrdKx-yZplY"
      },
      "source": [
        ""
      ],
      "execution_count": null,
      "outputs": []
    },
    {
      "cell_type": "code",
      "metadata": {
        "id": "McTDJ0TJbl_-"
      },
      "source": [
        ""
      ],
      "execution_count": null,
      "outputs": []
    },
    {
      "cell_type": "markdown",
      "metadata": {
        "id": "pxCKCUvObvZk"
      },
      "source": [
        "control flow statements\r\n",
        "\r\n",
        "\r\n",
        "*   if-else statements\r\n",
        "*   while loop\r\n",
        "*   Introduction to range()\r\n",
        "*   for loop with range() function\r\n",
        "\r\n",
        "\r\n",
        "*   break,continue,pass statements\r\n",
        "\r\n",
        "\r\n",
        "\r\n",
        "\r\n",
        "\r\n",
        "\r\n"
      ]
    },
    {
      "cell_type": "code",
      "metadata": {
        "id": "vEZ28UVbxlbb"
      },
      "source": [
        ""
      ],
      "execution_count": null,
      "outputs": []
    }
  ]
}